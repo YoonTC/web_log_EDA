{
 "cells": [
  {
   "cell_type": "code",
   "execution_count": 2,
   "metadata": {},
   "outputs": [
    {
     "name": "stdout",
     "output_type": "stream",
     "text": [
      "[(1, 2), (3, 4)]\n",
      "[(1, 10, 4), (5, 4, 7)]\n"
     ]
    }
   ],
   "source": [
    "def vector_subtraction(*vector_variables):\n",
    "\n",
    "    return [valuse[0] - sum(valuse[1:]) for valuse in zip(*vector_variables)]\n",
    "# 실행결과\n",
    "print(vector_subtraction([1, 3], [2, 4])) # Expected value: [-1, -1]\n",
    "print(vector_subtraction([1, 5], [10, 4], [4, 7])) # Expected value: [-13, -6]"
   ]
  },
  {
   "cell_type": "code",
   "execution_count": null,
   "metadata": {},
   "outputs": [],
   "source": [
    "def scalar_vector_product(alpha, vector_variable):\n",
    "    return [values*alpha for values in vector_variable]\n",
    "# 실행결과\n",
    "print (scalar_vector_product(5,[1,2,3])) # Expected value: [5, 10, 15]\n",
    "print (scalar_vector_product(3,[2,2])) # Expected value: [6, 6]\n",
    "print (scalar_vector_product(4,[1])) # Expected value: [4]"
   ]
  },
  {
   "cell_type": "code",
   "execution_count": 3,
   "metadata": {},
   "outputs": [
    {
     "name": "stdout",
     "output_type": "stream",
     "text": [
      "False\n",
      "True\n",
      "True\n"
     ]
    }
   ],
   "source": [
    "def matrix_size_check(*matrix_variables):\n",
    "    return len(set([len(matrix) for matrix in matrix_variables])) == 1\\\n",
    "            and len(set([len(row) for matrix in matrix_variables for row in zip(*matrix)])) == 1\n",
    "\n",
    "#row와 row의 크기가 같아야 한다\n",
    "#채ㅣ\n",
    "# 실행결과\n",
    "matrix_x = [[2, 2], [2, 2], [2, 2]]\n",
    "matrix_y = [[2, 5], [2, 1]]\n",
    "matrix_z = [[2, 4], [5, 3]]\n",
    "matrix_w = [[2, 5], [1, 1], [2, 2]]\n",
    "\n",
    "print (matrix_size_check(matrix_x, matrix_y, matrix_z)) # Expected value: False\n",
    "print (matrix_size_check(matrix_y, matrix_z)) # Expected value: True\n",
    "print (matrix_size_check(matrix_x, matrix_w)) # Expected value: True"
   ]
  },
  {
   "cell_type": "code",
   "execution_count": null,
   "metadata": {},
   "outputs": [],
   "source": [
    "def matrix_addition(*matrix_variables):\n",
    "    if matrix_size_check(*matrix_variables) == False:\n",
    "        raise ArithmeticError\n",
    "    return [matrix[0] + matrix for matrix in matrix_variables]\n",
    "# 실행결과\n",
    "matrix_x = [[2, 2], [2, 2]]\n",
    "matrix_y = [[2, 5], [2, 1]]\n",
    "matrix_z = [[2, 4], [5, 3]]\n",
    "\n",
    "print (matrix_addition(matrix_x, matrix_y)) # Expected value: [[4, 7], [4, 3]]\n",
    "print (matrix_addition(matrix_x, matrix_y, matrix_z)) # Expected value: [[6, 11], [9, 6]]"
   ]
  }
 ],
 "metadata": {
  "kernelspec": {
   "display_name": "Python 3",
   "language": "python",
   "name": "python3"
  },
  "language_info": {
   "codemirror_mode": {
    "name": "ipython",
    "version": 3
   },
   "file_extension": ".py",
   "mimetype": "text/x-python",
   "name": "python",
   "nbconvert_exporter": "python",
   "pygments_lexer": "ipython3",
   "version": "3.12.1"
  }
 },
 "nbformat": 4,
 "nbformat_minor": 2
}
